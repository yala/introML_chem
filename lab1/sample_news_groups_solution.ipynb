{
  "nbformat": 4,
  "nbformat_minor": 0,
  "metadata": {
    "colab": {
      "name": "sample_news_groups_solution.ipynb",
      "version": "0.3.2",
      "provenance": [],
      "include_colab_link": true
    },
    "kernelspec": {
      "display_name": "Python 3",
      "language": "python",
      "name": "python3"
    }
  },
  "cells": [
    {
      "cell_type": "markdown",
      "metadata": {
        "id": "view-in-github",
        "colab_type": "text"
      },
      "source": [
        "<a href=\"https://colab.research.google.com/github/yala/introML_chem/blob/master/lab1/sample_news_groups_solution.ipynb\" target=\"_parent\"><img src=\"https://colab.research.google.com/assets/colab-badge.svg\" alt=\"Open In Colab\"/></a>"
      ]
    },
    {
      "cell_type": "code",
      "metadata": {
        "id": "fAjPDVvIU0-T",
        "colab_type": "code",
        "colab": {}
      },
      "source": [
        "import pickle\n",
        "import re\n",
        "from sklearn.datasets import fetch_20newsgroups\n",
        "from sklearn.linear_model import LogisticRegression\n",
        "from sklearn.linear_model import Perceptron\n",
        "from sklearn.linear_model  import PassiveAggressiveClassifier\n",
        "from sklearn.svm import SVC\n",
        "from sklearn.feature_extraction.text import CountVectorizer\n",
        "import numpy as np\n",
        "import warnings\n",
        "warnings.filterwarnings(\"ignore\")\n"
      ],
      "execution_count": 0,
      "outputs": []
    },
    {
      "cell_type": "markdown",
      "metadata": {
        "id": "eVhXooibU0-f",
        "colab_type": "text"
      },
      "source": [
        "# The Task: News Group Classification\n",
        "\n",
        "Given documents in different news groups (i.e topics):\n",
        "```\n",
        "['alt.atheism',\n",
        " 'comp.graphics',\n",
        " 'comp.os.ms-windows.misc',\n",
        " 'comp.sys.ibm.pc.hardware',\n",
        " 'comp.sys.mac.hardware',\n",
        " 'comp.windows.x',\n",
        " 'misc.forsale',\n",
        " 'rec.autos',\n",
        " 'rec.motorcycles',\n",
        " 'rec.sport.baseball',\n",
        " 'rec.sport.hockey',\n",
        " 'sci.crypt',\n",
        " 'sci.electronics',\n",
        " 'sci.med',\n",
        " 'sci.space',\n",
        " 'soc.religion.christian',\n",
        " 'talk.politics.guns',\n",
        " 'talk.politics.mideast',\n",
        " 'talk.politics.misc',\n",
        " 'talk.religion.misc']```\n",
        " \n",
        "Train a classifier to predict the topic of a given document. \n",
        "\n",
        "\n",
        "## Step 1: Preprocessing the data\n",
        "To start off, we're going to load the data from sklearn and do some simple preprocessing. We'll remove the headers, footers and quotes in the articles. We'll also do the same preprocessing as before.\n",
        "\n",
        "\n",
        "The sanity check the data, we'll look at a few examples.\n"
      ]
    },
    {
      "cell_type": "code",
      "metadata": {
        "id": "A5HRo3MUU0-g",
        "colab_type": "code",
        "outputId": "9874bc86-ab88-4d9a-a397-5e994f127134",
        "colab": {
          "base_uri": "https://localhost:8080/",
          "height": 52
        }
      },
      "source": [
        "\n",
        "categories = ['alt.atheism',\n",
        " 'comp.graphics',\n",
        " 'comp.os.ms-windows.misc',\n",
        " 'comp.sys.ibm.pc.hardware',\n",
        " 'comp.sys.mac.hardware',\n",
        " 'comp.windows.x',\n",
        " 'misc.forsale',\n",
        " 'rec.autos',\n",
        " 'rec.motorcycles',\n",
        " 'rec.sport.baseball',\n",
        " 'rec.sport.hockey',\n",
        " 'sci.crypt',\n",
        " 'sci.electronics',\n",
        " 'sci.med',\n",
        " 'sci.space',\n",
        " 'soc.religion.christian',\n",
        " 'talk.politics.guns',\n",
        " 'talk.politics.mideast',\n",
        " 'talk.politics.misc',\n",
        " 'talk.religion.misc']\n",
        "\n",
        "full_train = fetch_20newsgroups(subset='train', remove=('headers', 'footers', 'quotes'), categories=categories)\n",
        "test = fetch_20newsgroups(subset='test', remove=('headers', 'footers', 'quotes'), categories=categories)\n",
        "\n",
        "def preprocess_data(data):\n",
        "    processed_data = []\n",
        "    for indx, sample in enumerate(data['data']):\n",
        "        text, label = sample, data['target'][indx]\n",
        "        label_name = data['target_names'][label]\n",
        "        text = re.sub('\\W+', ' ', text).lower().strip()\n",
        "        processed_data.append( (text, label, label_name) )\n",
        "    return processed_data\n",
        "\n",
        "\n",
        "train_set = preprocess_data(full_train)\n",
        "full_test_set = preprocess_data(test)\n",
        "half_indx = len(full_test_set) // 2\n",
        "dev_set = full_test_set[:half_indx]\n",
        "test_set = full_test_set[half_indx:]\n",
        "\n"
      ],
      "execution_count": 2,
      "outputs": [
        {
          "output_type": "stream",
          "text": [
            "Downloading 20news dataset. This may take a few minutes.\n",
            "Downloading dataset from https://ndownloader.figshare.com/files/5975967 (14 MB)\n"
          ],
          "name": "stderr"
        }
      ]
    },
    {
      "cell_type": "code",
      "metadata": {
        "id": "g0Jbgx25U0-n",
        "colab_type": "code",
        "outputId": "b1aa5522-82b8-4d89-9e14-2c89e443e4a0",
        "colab": {
          "base_uri": "https://localhost:8080/",
          "height": 159
        }
      },
      "source": [
        "print(\"Num Train: {}\".format(len(train_set)))\n",
        "print(\"Num Dev: {}\".format(len(dev_set)))\n",
        "print(\"Num Test: {}\".format(len(test_set)))\n",
        "print(\"Example Documents:\")\n",
        "print(train_set[0])\n",
        "print()\n",
        "print(train_set[1])\n"
      ],
      "execution_count": 3,
      "outputs": [
        {
          "output_type": "stream",
          "text": [
            "Num Train: 11314\n",
            "Num Dev: 3766\n",
            "Num Test: 3766\n",
            "Example Documents:\n",
            "('i was wondering if anyone out there could enlighten me on this car i saw the other day it was a 2 door sports car looked to be from the late 60s early 70s it was called a bricklin the doors were really small in addition the front bumper was separate from the rest of the body this is all i know if anyone can tellme a model name engine specs years of production where this car is made history or whatever info you have on this funky looking car please e mail', 7, 'rec.autos')\n",
            "\n",
            "('a fair number of brave souls who upgraded their si clock oscillator have shared their experiences for this poll please send a brief message detailing your experiences with the procedure top speed attained cpu rated speed add on cards and adapters heat sinks hour of usage per day floppy disk functionality with 800 and 1 4 m floppies are especially requested i will be summarizing in the next two days so please add to the network knowledge base if you have done the clock upgrade and haven t answered this poll thanks', 4, 'comp.sys.mac.hardware')\n"
          ],
          "name": "stdout"
        }
      ]
    },
    {
      "cell_type": "markdown",
      "metadata": {
        "id": "DGz60QGmU0-w",
        "colab_type": "text"
      },
      "source": [
        "## Step 2: Feature Engineering \n",
        "\n",
        "How do we represent a document? This is up to you!\n",
        "Remeber, you can vary the vocabulary size, choose to put ``ngrams``!\n",
        "\n",
        "Remember, we can do this very easily with ```sklearn.feature_extraction.text.CountVectorizer```\n",
        "\n",
        "<img src=\"https://github.com/yala/MLCodeLab/blob/master/lab1/vectorizer.png?raw=true\">\n"
      ]
    },
    {
      "cell_type": "code",
      "metadata": {
        "id": "I6rG5_W-U0-z",
        "colab_type": "code",
        "colab": {}
      },
      "source": [
        "#Extract tweets and labels into 2 lists\n",
        "trainText = [t[0] for t in train_set]\n",
        "trainY = [t[1] for t in train_set]\n",
        "\n",
        "devText = [t[0] for t in dev_set]\n",
        "devY = [t[1] for t in dev_set]\n",
        "\n",
        "\n",
        "testText = [t[0] for t in test_set]\n",
        "testY = [t[1] for t in test_set]\n",
        "\n",
        "min_df = 10\n",
        "max_df = 0.90\n",
        "ngram_range = (1,3)\n",
        "max_features = 10000\n",
        "countVec = CountVectorizer(min_df=min_df, \n",
        "                           max_df=max_df,\n",
        "                           max_features=max_features, \n",
        "                           ngram_range=ngram_range,\n",
        "                           stop_words='english')\n",
        "\n",
        "\n",
        "\n",
        "# Learn vocabulary from train set\n",
        "countVec.fit(trainText)\n",
        "\n",
        "# Transform list of review to matrix of bag-of-word vectors\n",
        "trainX = countVec.transform(trainText)\n",
        "devX = countVec.transform(devText)\n",
        "testX = countVec.transform(testText)"
      ],
      "execution_count": 0,
      "outputs": []
    },
    {
      "cell_type": "code",
      "metadata": {
        "id": "hzD_tam6U0-2",
        "colab_type": "code",
        "outputId": "ae86c212-3a5d-414d-9c0a-7ded917dd70a",
        "colab": {
          "base_uri": "https://localhost:8080/",
          "height": 121
        }
      },
      "source": [
        "print(\"Shape of Train X {}\\n\".format(trainX.shape))\n",
        "print(\"Sample of the vocab:\\n {}\".format(np.random.choice(countVec.get_feature_names(), 20)))\n"
      ],
      "execution_count": 0,
      "outputs": [
        {
          "output_type": "stream",
          "text": [
            "Shape of Train X (11314, 10000)\n",
            "\n",
            "Sample of the vocab:\n",
            " ['sumgait' 'torque' 'dsl pitt edu' 'family' 'incident' 'ye' 'graphic'\n",
            " 'publication' 'staff' 'laserjet' 'interface' 'dont' 'pile' 'ott' 'relate'\n",
            " 'minority' 'atheists' 'tony' 'tricky' 'censorship']\n"
          ],
          "name": "stdout"
        }
      ]
    },
    {
      "cell_type": "markdown",
      "metadata": {
        "id": "zM1gZneeU0-9",
        "colab_type": "text"
      },
      "source": [
        "## Step 3: Pick a model and experiment\n",
        "\n",
        "Explore various models.\n",
        "\n",
        "I recomment exploring:\n",
        "1) [Logistic Regression](http://scikit-learn.org/stable/modules/generated/sklearn.linear_model.LogisticRegression.html)\n",
        "2) [SVM](http://scikit-learn.org/stable/modules/generated/sklearn.svm.LinearSVC.html#sklearn.svm.LinearSVC)\n",
        "\n",
        "And look around the [library](http://scikit-learn.org/stable/modules/classes.html#module-sklearn.svm) for other options!\n",
        "\n",
        "\n",
        "\n"
      ]
    },
    {
      "cell_type": "code",
      "metadata": {
        "id": "qumYwf-jU0-_",
        "colab_type": "code",
        "colab": {}
      },
      "source": [
        "# Initialize your model\n",
        "model = LogisticRegression(C=.01, class_weight='balanced',\n",
        "                          penalty='l2')\n",
        "\n"
      ],
      "execution_count": 0,
      "outputs": []
    },
    {
      "cell_type": "code",
      "metadata": {
        "id": "3AtYGPKOU0_E",
        "colab_type": "code",
        "outputId": "9fc30697-9e68-4f50-e7bd-ba36cbb941f0",
        "colab": {
          "base_uri": "https://localhost:8080/",
          "height": 69
        }
      },
      "source": [
        "model.fit(trainX, trainY)\n",
        "\n",
        "\n",
        "print(\"Train Accuracy:\", model.score(trainX, trainY))\n",
        "print(\"Dev Accuracy:\", model.score(devX, devY))\n",
        "print(\"--\")\n"
      ],
      "execution_count": 0,
      "outputs": [
        {
          "output_type": "stream",
          "text": [
            "Train Accuracy: 0.7965352660420718\n",
            "Dev Accuracy: 0.6147105682421667\n",
            "--\n"
          ],
          "name": "stdout"
        }
      ]
    },
    {
      "cell_type": "markdown",
      "metadata": {
        "id": "JZ86fE6rU0_K",
        "colab_type": "text"
      },
      "source": [
        "## Step 4: Analysis, Debugging the Model\n",
        "To understand how to make the model better, it's important understand what the model is learning, and what it's getting wrong.\n",
        "\n",
        "Recall how we did this for Logistic regression. \n",
        "\n",
        "It can be helpful inspect the highest weighted features of the model and look at some examples the model got wrong on the development set. \n",
        "\n",
        "From what you learn, you can go back and change the feature extraction or the regularization.\n"
      ]
    },
    {
      "cell_type": "code",
      "metadata": {
        "id": "EuZJ-7rwU0_M",
        "colab_type": "code",
        "outputId": "1cb7f3ed-d5a6-422f-e2ca-b8f28d14840b",
        "colab": {
          "base_uri": "https://localhost:8080/",
          "height": 1791
        }
      },
      "source": [
        "print(\"Intepreting The model\")\n",
        "for label in range(20):\n",
        "    coefs = model.coef_[label]\n",
        "    vocab = np.array(countVec.get_feature_names())\n",
        "    num_features = 5\n",
        "\n",
        "    top = np.argpartition(coefs, -num_features)[-num_features:]\n",
        "    # Sort top\n",
        "    top = top[np.argsort(coefs[top])]\n",
        "    s_coef = coefs[top]\n",
        "    scored_vocab = list(zip(vocab[top], s_coef))\n",
        "    print(\"Top weighted features for label {}:\\n \\n {}\\n -- \\n\".format(test['target_names'][label], scored_vocab))"
      ],
      "execution_count": 0,
      "outputs": [
        {
          "output_type": "stream",
          "text": [
            "Intepreting The model\n",
            "Top weighted features for label alt.atheism:\n",
            " \n",
            " [('atheists', 0.2508178944890633), ('bobby', 0.2519097588926118), ('islam', 0.2614950752178715), ('religion', 0.29312586490879056), ('atheism', 0.3371150581374824)]\n",
            " -- \n",
            "\n",
            "Top weighted features for label comp.graphics:\n",
            " \n",
            " [('points', 0.23292519676922613), ('format', 0.24627895446899792), ('3d', 0.33904912664630843), ('image', 0.38818763318135424), ('graphics', 0.6634203740777268)]\n",
            " -- \n",
            "\n",
            "Top weighted features for label comp.os.ms-windows.misc:\n",
            " \n",
            " [('cica', 0.232913294482514), ('files', 0.23393875842103476), ('driver', 0.2368866207976759), ('file', 0.2507592059973859), ('windows', 0.8374738275416796)]\n",
            " -- \n",
            "\n",
            "Top weighted features for label comp.sys.ibm.pc.hardware:\n",
            " \n",
            " [('ide', 0.26686129560057065), ('bus', 0.26744485480038316), ('486', 0.26872496346764074), ('monitor', 0.26874886085025357), ('controller', 0.28921621100848527)]\n",
            " -- \n",
            "\n",
            "Top weighted features for label comp.sys.mac.hardware:\n",
            " \n",
            " [('simms', 0.25469387667761223), ('se', 0.2592641933922047), ('quadra', 0.2942969623678245), ('apple', 0.6557819399574487), ('mac', 0.6779842782104233)]\n",
            " -- \n",
            "\n",
            "Top weighted features for label comp.windows.x:\n",
            " \n",
            " [('xterm', 0.26536059695383146), ('widget', 0.3459705228672921), ('motif', 0.4818163336608508), ('server', 0.5101966365202594), ('window', 0.5325022821289123)]\n",
            " -- \n",
            "\n",
            "Top weighted features for label misc.forsale:\n",
            " \n",
            " [('sell', 0.3587016606705584), ('condition', 0.36748620667441373), ('shipping', 0.4124150998111809), ('offer', 0.47962640645975213), ('sale', 0.7129808856807319)]\n",
            " -- \n",
            "\n",
            "Top weighted features for label rec.autos:\n",
            " \n",
            " [('dealer', 0.249904495869057), ('ford', 0.2607097008528331), ('engine', 0.3091065914982131), ('cars', 0.5506717659421956), ('car', 0.8969189076598768)]\n",
            " -- \n",
            "\n",
            "Top weighted features for label rec.motorcycles:\n",
            " \n",
            " [('helmet', 0.3226482532240699), ('ride', 0.3765625015931323), ('bikes', 0.3770563548503597), ('dod', 0.4845182285446831), ('bike', 0.9281146607385001)]\n",
            " -- \n",
            "\n",
            "Top weighted features for label rec.sport.baseball:\n",
            " \n",
            " [('braves', 0.28816637450068494), ('runs', 0.30106227547488495), ('hit', 0.3296355928605018), ('year', 0.3584137756959478), ('baseball', 0.4956540733111511)]\n",
            " -- \n",
            "\n",
            "Top weighted features for label rec.sport.hockey:\n",
            " \n",
            " [('play', 0.31266190818339884), ('nhl', 0.34200979591726227), ('team', 0.3783036660496014), ('game', 0.41103197510290984), ('hockey', 0.6247470378586089)]\n",
            " -- \n",
            "\n",
            "Top weighted features for label sci.crypt:\n",
            " \n",
            " [('chip', 0.29649241638074225), ('nsa', 0.43178812031167846), ('key', 0.4369269818908716), ('encryption', 0.5049211617163487), ('clipper', 0.5150827618986449)]\n",
            " -- \n",
            "\n",
            "Top weighted features for label sci.electronics:\n",
            " \n",
            " [('ground', 0.2383358643395612), ('voltage', 0.2485553675892183), ('current', 0.2557714802538992), ('electronics', 0.3274218354542741), ('circuit', 0.3613332523428881)]\n",
            " -- \n",
            "\n",
            "Top weighted features for label sci.med:\n",
            " \n",
            " [('pain', 0.27098672636937926), ('medical', 0.3005772604502936), ('disease', 0.3634285479533015), ('msg', 0.38421854875015327), ('doctor', 0.39083583812499473)]\n",
            " -- \n",
            "\n",
            "Top weighted features for label sci.space:\n",
            " \n",
            " [('launch', 0.3165587748681652), ('orbit', 0.34611193395528256), ('moon', 0.35433635800262187), ('nasa', 0.37589485639463094), ('space', 0.8675618767841967)]\n",
            " -- \n",
            "\n",
            "Top weighted features for label soc.religion.christian:\n",
            " \n",
            " [('christianity', 0.24610792935186573), ('christ', 0.2715793374994815), ('god', 0.2752657944768706), ('christians', 0.28981744227628525), ('church', 0.4062929881874188)]\n",
            " -- \n",
            "\n",
            "Top weighted features for label talk.politics.guns:\n",
            " \n",
            " [('firearms', 0.28014681237282424), ('fbi', 0.31039462618972835), ('weapons', 0.3978349021351867), ('guns', 0.4616394074824982), ('gun', 0.5938349241588695)]\n",
            " -- \n",
            "\n",
            "Top weighted features for label talk.politics.mideast:\n",
            " \n",
            " [('armenians', 0.2750228862506602), ('arab', 0.3122739504084691), ('jews', 0.3923754303053817), ('israeli', 0.4890512698593218), ('israel', 0.6226593425503016)]\n",
            " -- \n",
            "\n",
            "Top weighted features for label talk.politics.misc:\n",
            " \n",
            " [('men', 0.214857554657848), ('drugs', 0.26012523771535545), ('government', 0.2616998733548313), ('clinton', 0.2823193489397927), ('tax', 0.3155748494478488)]\n",
            " -- \n",
            "\n",
            "Top weighted features for label talk.religion.misc:\n",
            " \n",
            " [('order', 0.23025479629564333), ('christian', 0.23290067711082926), ('objective', 0.24613374290122988), ('koresh', 0.2508696605247107), ('kent', 0.2511819516441649)]\n",
            " -- \n",
            "\n"
          ],
          "name": "stdout"
        }
      ]
    },
    {
      "cell_type": "code",
      "metadata": {
        "id": "TKTOyHsvU0_U",
        "colab_type": "code",
        "outputId": "ae4a2d92-1148-4d51-b8d1-1bca096a56e2",
        "colab": {
          "base_uri": "https://localhost:8080/",
          "height": 141
        }
      },
      "source": [
        "## Find erronous dev errors\n",
        "devPred = model.predict(devX)\n",
        "errors = []\n",
        "for indx in range(len(devText)):\n",
        "    if devPred[indx] != devY[indx]:\n",
        "        error = \"Document: \\n {} \\n Predicted: {} \\n Correct: {} \\n ---\".format(\n",
        "            devText[indx],\n",
        "            test['target_names'][devPred[indx]],\n",
        "            test['target_names'][devY[indx]])\n",
        "        errors.append(error)\n",
        "\n",
        "np.random.seed(1)\n",
        "print(\"Random dev error: \\n {} \\n \\n {} \\n \\n{}\".format(\n",
        "        np.random.choice(errors,1),\n",
        "        np.random.choice(errors,1),\n",
        "        np.random.choice(errors,1))\n",
        "     )"
      ],
      "execution_count": 0,
      "outputs": [
        {
          "output_type": "stream",
          "text": [
            "Random dev error: \n",
            " ['Document: \\n unfortunately roger is now over at r s baseball spewing his expertise i e being a dickhead i guess he is afraid of posting anything here because he knows what to expect \\n Predicted: rec.sport.baseball \\n Correct: rec.sport.hockey \\n ---'] \n",
            " \n",
            " ['Document: \\n date sun 25 apr 1993 10 13 30 gmt from fred rice darice yoyo cc monash edu au the qur an talks about those who take their lusts and worldly desires for their god i think this probably encompasses most atheists fred rice darice yoyo cc monash edu au as well as all the muslim men screwing fourteen year old prostitutes in thailand got a better quote \\n Predicted: sci.space \\n Correct: alt.atheism \\n ---'] \n",
            " \n",
            "['Document: \\n precisely one wonders what unusual strain the boy might be under that could be causing difficulty with his behavior standard practice would be to get a second opinion from a child psychiatrist one would want to rule out the possibility that the bad behavior is not psychiatric illness at all disclaimer i am not a medic but i am a parent \\n Predicted: rec.sport.baseball \\n Correct: sci.med \\n ---']\n"
          ],
          "name": "stdout"
        }
      ]
    },
    {
      "cell_type": "markdown",
      "metadata": {
        "id": "ngs2TJ7YU0_Z",
        "colab_type": "text"
      },
      "source": [
        "## Step 5: Take best model, and report results on Test"
      ]
    },
    {
      "cell_type": "code",
      "metadata": {
        "id": "ddbpnM-IU0_a",
        "colab_type": "code",
        "outputId": "d25e86e7-eb5c-415a-c70b-919d927c826d",
        "colab": {
          "base_uri": "https://localhost:8080/",
          "height": 34
        }
      },
      "source": [
        "print(\"Test Accuracy:\", model.score(testX, testY))\n"
      ],
      "execution_count": 0,
      "outputs": [
        {
          "output_type": "stream",
          "text": [
            "Test Accuracy: 0.6250663834306956\n"
          ],
          "name": "stdout"
        }
      ]
    }
  ]
}