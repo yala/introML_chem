{
 "cells": [
  {
   "cell_type": "markdown",
   "metadata": {
    "colab_type": "text",
    "id": "yXAB2YFIhjZ7"
   },
   "source": [
    "# Build a classifier on Morgan Fingerprints"
   ]
  },
  {
   "cell_type": "code",
   "execution_count": null,
   "metadata": {
    "colab": {
     "base_uri": "https://localhost:8080/",
     "height": 2278
    },
    "colab_type": "code",
    "id": "G7Yw-FhrOcHs",
    "outputId": "7cfb8ebb-e468-49ba-fd7c-90aa5abb4289"
   },
   "outputs": [],
   "source": [
    "!wget -c https://repo.anaconda.com/miniconda/Miniconda3-latest-Linux-x86_64.sh\n",
    "!chmod +x Miniconda3-latest-Linux-x86_64.sh\n",
    "!bash ./Miniconda3-latest-Linux-x86_64.sh -b -f -p /usr/local\n",
    "!conda install -q -y --prefix /usr/local -c rdkit rdkit scikit-learn\n",
    "\n",
    "import sys\n",
    "import math\n",
    "import os\n",
    "import random\n",
    "from typing import Union, List, Dict\n",
    "import numpy as np\n",
    "from rdkit import Chem, DataStructs\n",
    "from rdkit.Chem import AllChem\n",
    "from sklearn.metrics import mean_squared_error\n",
    "sys.path.append('/usr/local/lib/python3.6/site-packages/')\n",
    "\n",
    "!wget https://raw.githubusercontent.com/yala/introML_chem/master/lab1/data/chem/delaney_train.csv\n",
    "!wget https://raw.githubusercontent.com/yala/introML_chem/master/lab1/data/chem/delaney_test.csv"
   ]
  },
  {
   "cell_type": "code",
   "execution_count": null,
   "metadata": {
    "colab": {},
    "colab_type": "code",
    "id": "G4SXr5xPa2ws"
   },
   "outputs": [],
   "source": [
    "def morgan_fingerprint(smiles: str, radius: int = 3, num_bits: int = 2048) -> np.ndarray:\n",
    "  mol = Chem.MolFromSmiles(smiles)\n",
    "  morgan_vect = AllChem.GetMorganFingerprintAsBitVect(mol, radius, nBits=num_bits)\n",
    "  morgan_fp = np.zeros((1,))\n",
    "  DataStructs.ConvertToNumpyArray(morgan_vect, morgan_fp)\n",
    "  \n",
    "  return morgan_fp"
   ]
  },
  {
   "cell_type": "code",
   "execution_count": null,
   "metadata": {
    "colab": {},
    "colab_type": "code",
    "id": "vmEOLbj-a0G_"
   },
   "outputs": [],
   "source": [
    "class MoleculeDatapoint:\n",
    "  def __init__(self, smiles: str, target: float):\n",
    "    self.smiles = smiles\n",
    "    self.target = target\n",
    "    self.morgan = morgan_fingerprint(smiles)\n",
    "    \n",
    "class MoleculeDataset:\n",
    "  def __init__(self, data: List[MoleculeDatapoint]):\n",
    "    self.data = data\n",
    "    \n",
    "  def smiles(self) -> List[str]:\n",
    "    return [d.smiles for d in self.data]\n",
    "  \n",
    "  def targets(self) -> List[float]:\n",
    "    return [d.target for d in self.data]\n",
    "  \n",
    "  def morgans(self) -> List[np.ndarray]:\n",
    "    return [d.morgan for d in self.data]\n",
    "\n",
    "def get_data(split: str) -> MoleculeDataset:\n",
    "  data_path = 'delaney_{}.csv'.format(split)\n",
    "  with open(data_path) as f:\n",
    "    f.readline()\n",
    "    data = []\n",
    "    for line in f:\n",
    "      smiles, target = line.strip().split(',')\n",
    "      target = float(target)\n",
    "      data.append(MoleculeDatapoint(smiles, target))\n",
    "      \n",
    "  return MoleculeDataset(data)\n",
    "\n",
    "\n",
    "def rmse(targets: List[float], preds: List[float]) -> float:\n",
    "    return math.sqrt(mean_squared_error(targets, preds))"
   ]
  },
  {
   "cell_type": "code",
   "execution_count": null,
   "metadata": {
    "colab": {},
    "colab_type": "code",
    "id": "PgP0FAWyax41"
   },
   "outputs": [],
   "source": [
    "# Load all train data\n",
    "all_train_data = get_data('train')\n",
    "# split it into train and dev:\n",
    "pass\n",
    "test_data = get_data('test')"
   ]
  },
  {
   "cell_type": "code",
   "execution_count": null,
   "metadata": {
    "colab": {},
    "colab_type": "code",
    "id": "IBtqFXZ9UPkX"
   },
   "outputs": [],
   "source": [
    "# Build your model and experiment to get min rmse on development set"
   ]
  },
  {
   "cell_type": "code",
   "execution_count": null,
   "metadata": {
    "colab": {
     "base_uri": "https://localhost:8080/",
     "height": 153
    },
    "colab_type": "code",
    "id": "L-BVDLuxS1NY",
    "outputId": "233d7286-30d8-4b77-f53f-5baade409606"
   },
   "outputs": [],
   "source": []
  },
  {
   "cell_type": "code",
   "execution_count": null,
   "metadata": {
    "colab": {
     "base_uri": "https://localhost:8080/",
     "height": 34
    },
    "colab_type": "code",
    "id": "Yaaeiv1TWUiX",
    "outputId": "8fa82b96-8bbf-4fb7-d2f2-0671e1981518"
   },
   "outputs": [],
   "source": [
    "\n",
    "\n",
    "preds = # Get predictions of your best model \n",
    "print('rmse = {:.4f}'.format(rmse(test_data.targets(), preds)))"
   ]
  }
 ],
 "metadata": {
  "colab": {
   "name": "random_forest.ipynb",
   "provenance": [],
   "version": "0.3.2"
  },
  "kernelspec": {
   "display_name": "chem",
   "language": "python",
   "name": "chem"
  },
  "language_info": {
   "codemirror_mode": {
    "name": "ipython",
    "version": 2
   },
   "file_extension": ".py",
   "mimetype": "text/x-python",
   "name": "python",
   "nbconvert_exporter": "python",
   "pygments_lexer": "ipython2",
   "version": "2.7.15"
  }
 },
 "nbformat": 4,
 "nbformat_minor": 1
}
