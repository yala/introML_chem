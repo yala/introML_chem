{
  "nbformat": 4,
  "nbformat_minor": 0,
  "metadata": {
    "colab": {
      "name": "message_passing_neural_network_tutorial.ipynb",
      "version": "0.3.2",
      "provenance": [],
      "private_outputs": true,
      "collapsed_sections": [],
      "toc_visible": true,
      "include_colab_link": true
    },
    "kernelspec": {
      "name": "python3",
      "display_name": "Python 3"
    },
    "accelerator": "GPU"
  },
  "cells": [
    {
      "cell_type": "markdown",
      "metadata": {
        "id": "view-in-github",
        "colab_type": "text"
      },
      "source": [
        "<a href=\"https://colab.research.google.com/github/yala/introML_chem/blob/master/lab4/message_passing_neural_network_tutorial.ipynb\" target=\"_parent\"><img src=\"https://colab.research.google.com/assets/colab-badge.svg\" alt=\"Open In Colab\"/></a>"
      ]
    },
    {
      "cell_type": "markdown",
      "metadata": {
        "id": "ATT0ccpSf8jX",
        "colab_type": "text"
      },
      "source": [
        "# Introduction to Message Passing Neural Networks\n",
        "\n",
        "In this tutorial, we'll take you through developing a message passing neural network (MPNN), which is a type of neural network that operates on graphs. We'll then show you how to use an MPNN to predict the properties of molecules.\n",
        "\n",
        "Let's get started!"
      ]
    },
    {
      "cell_type": "code",
      "metadata": {
        "id": "kKI0tvjUshtv",
        "colab_type": "code",
        "colab": {}
      },
      "source": [
        "# http://pytorch.org/\n",
        "from os import path\n",
        "from wheel.pep425tags import get_abbr_impl, get_impl_ver, get_abi_tag\n",
        "platform = '{}{}-{}'.format(get_abbr_impl(), get_impl_ver(), get_abi_tag())\n",
        "\n",
        "accelerator = 'cu80' if path.exists('/opt/bin/nvidia-smi') else 'cpu'\n",
        "\n",
        "!pip install -q http://download.pytorch.org/whl/{accelerator}/torch-0.4.0-{platform}-linux_x86_64.whl torchvision==0.2.0\n",
        "import torch\n",
        "print(torch.__version__)\n",
        "print(torch.cuda.is_available())\n",
        "\n",
        "!wget -c https://repo.anaconda.com/miniconda/Miniconda3-latest-Linux-x86_64.sh\n",
        "!chmod +x Miniconda3-latest-Linux-x86_64.sh\n",
        "!bash ./Miniconda3-latest-Linux-x86_64.sh -b -f -p /usr/local\n",
        "!conda install -q -y --prefix /usr/local -c conda-forge rdkit rdkit scikit-learn"
      ],
      "execution_count": 0,
      "outputs": []
    },
    {
      "cell_type": "code",
      "metadata": {
        "id": "SCORNXxTsoPV",
        "colab_type": "code",
        "colab": {}
      },
      "source": [
        "import sys\n",
        "sys.path.append('/usr/local/lib/python3.7/site-packages/')\n",
        "import math\n",
        "import os\n",
        "import random\n",
        "from typing import Union, List, Dict\n",
        "import argparse\n",
        "import torch\n",
        "import torch.nn as nn\n",
        "import torch.nn.functional as F\n",
        "import torch.optim as optim\n",
        "from tqdm import trange\n",
        "import numpy as np\n",
        "import pickle\n",
        "import re\n",
        "from rdkit import Chem, DataStructs\n",
        "from rdkit.Chem import AllChem\n",
        "from sklearn.metrics import mean_squared_error\n",
        "\n",
        "!wget https://raw.githubusercontent.com/yala/introML_chem/master/lab1/data/chem/delaney_train.csv\n",
        "!wget https://raw.githubusercontent.com/yala/introML_chem/master/lab1/data/chem/delaney_val.csv\n",
        "!wget https://raw.githubusercontent.com/yala/introML_chem/master/lab1/data/chem/delaney_test.csv"
      ],
      "execution_count": 0,
      "outputs": []
    },
    {
      "cell_type": "code",
      "metadata": {
        "id": "J9UX9eTCZ4oJ",
        "colab_type": "code",
        "colab": {}
      },
      "source": [
        "class MoleculeDatapoint:\n",
        "  def __init__(self, smiles: str, targets: List[float]):\n",
        "    self.smiles = smiles\n",
        "    self.targets = targets\n",
        "    \n",
        "class MoleculeDataset:\n",
        "  def __init__(self, data: List[MoleculeDatapoint]):\n",
        "    self.data = data\n",
        "    \n",
        "  def smiles(self) -> List[str]:\n",
        "    return [d.smiles for d in self.data]\n",
        "  \n",
        "  def targets(self) -> List[float]:\n",
        "    return [d.targets for d in self.data]\n",
        "  \n",
        "  def shuffle(self, seed: int = None):\n",
        "    if seed is not None:\n",
        "      random.seed(seed)\n",
        "    random.shuffle(self.data)\n",
        "  \n",
        "  def __len__(self) -> int:\n",
        "    return len(self.data)\n",
        "  \n",
        "  def __getitem__(self, item) -> MoleculeDatapoint:\n",
        "    return self.data[item]"
      ],
      "execution_count": 0,
      "outputs": []
    },
    {
      "cell_type": "code",
      "metadata": {
        "id": "WzizVlZpLJhS",
        "colab_type": "code",
        "colab": {}
      },
      "source": [
        "def get_data(split: str) -> MoleculeDataset:\n",
        "  data_path = 'delaney_{}.csv'.format(split)\n",
        "  with open(data_path) as f:\n",
        "    f.readline()\n",
        "    data = []\n",
        "    for line in f:\n",
        "      line = line.strip().split(',')\n",
        "      smiles, targets = line[0], line[1:]\n",
        "      targets = [float(target) for target in targets]\n",
        "      data.append(MoleculeDatapoint(smiles, targets))\n",
        "      \n",
        "  return MoleculeDataset(data)"
      ],
      "execution_count": 0,
      "outputs": []
    },
    {
      "cell_type": "code",
      "metadata": {
        "id": "61AM_TWwSXRM",
        "colab_type": "code",
        "colab": {}
      },
      "source": [
        "train_data, val_data, test_data = get_data('train'), get_data('val'), get_data('test')"
      ],
      "execution_count": 0,
      "outputs": []
    },
    {
      "cell_type": "code",
      "metadata": {
        "id": "PqTTX-aiS_W6",
        "colab_type": "code",
        "colab": {}
      },
      "source": [
        "print(len(train_data))\n",
        "print(train_data[0])"
      ],
      "execution_count": 0,
      "outputs": []
    },
    {
      "cell_type": "code",
      "metadata": {
        "id": "UW4VtDlln5Zo",
        "colab_type": "code",
        "colab": {}
      },
      "source": [
        "ELEM_LIST = range(100)\n",
        "HYBRID_LIST = [\n",
        "    Chem.rdchem.HybridizationType.SP, Chem.rdchem.HybridizationType.SP2,\n",
        "    Chem.rdchem.HybridizationType.SP3, Chem.rdchem.HybridizationType.SP3D,\n",
        "    Chem.rdchem.HybridizationType.SP3D2\n",
        "]\n",
        "ATOM_FDIM = 100 + len(HYBRID_LIST) + 6 + 5 + 4 + 7 + 5 + 3 + 1\n",
        "BOND_FDIM = 6 + 6\n",
        "MAX_NB = 12\n",
        "\n",
        "def onek_encoding_unk(x, allowable_set):\n",
        "    if x not in allowable_set:\n",
        "        x = allowable_set[-1]\n",
        "    return list(map(lambda s: x == s, allowable_set))\n",
        "\n",
        "def atom_features(atom):\n",
        "    return torch.Tensor(onek_encoding_unk(atom.GetAtomicNum() - 1, ELEM_LIST) \n",
        "            + onek_encoding_unk(atom.GetDegree(), [0,1,2,3,4,5]) \n",
        "            + onek_encoding_unk(atom.GetFormalCharge(), [-1,-2,1,2,0])\n",
        "            + onek_encoding_unk(int(atom.GetChiralTag()), [0,1,2,3])\n",
        "            + onek_encoding_unk(int(atom.GetImplicitValence()), [0,1,2,3,4,5,6])\n",
        "            + onek_encoding_unk(int(atom.GetTotalNumHs()), [0,1,2,3,4])\n",
        "            + onek_encoding_unk(int(atom.GetHybridization()), HYBRID_LIST)\n",
        "            + onek_encoding_unk(int(atom.GetNumRadicalElectrons()), [0,1,2])\n",
        "            + [atom.GetIsAromatic()])\n",
        "\n",
        "def bond_features(bond):\n",
        "    bt = bond.GetBondType()\n",
        "    stereo = int(bond.GetStereo())\n",
        "    fbond = [bt == Chem.rdchem.BondType.SINGLE, bt == Chem.rdchem.BondType.DOUBLE, bt == Chem.rdchem.BondType.TRIPLE, bt == Chem.rdchem.BondType.AROMATIC, bond.GetIsConjugated(), bond.IsInRing()]\n",
        "    fstereo = onek_encoding_unk(stereo, [0,1,2,3,4,5])\n",
        "    return torch.Tensor(fbond + fstereo)\n",
        "\n",
        "def mol2graph(mol_batch):\n",
        "    padding = torch.zeros(ATOM_FDIM + BOND_FDIM)\n",
        "    fatoms,fbonds = [],[padding] #Ensure bond is 1-indexed\n",
        "    in_bonds,all_bonds = [],[(-1,-1)] #Ensure bond is 1-indexed\n",
        "    scope = []\n",
        "    total_atoms = 0\n",
        "\n",
        "    for smiles in mol_batch:\n",
        "        mol = Chem.MolFromSmiles(smiles)\n",
        "        n_atoms = mol.GetNumAtoms()\n",
        "        for atom in mol.GetAtoms():\n",
        "            fatoms.append( atom_features(atom) )\n",
        "            in_bonds.append([])\n",
        "\n",
        "        for bond in mol.GetBonds():\n",
        "            a1 = bond.GetBeginAtom()\n",
        "            a2 = bond.GetEndAtom()\n",
        "            x = a1.GetIdx() + total_atoms\n",
        "            y = a2.GetIdx() + total_atoms\n",
        "\n",
        "            b = len(all_bonds) \n",
        "            all_bonds.append((x,y))\n",
        "            fbonds.append( torch.cat([fatoms[x], bond_features(bond)], 0) )\n",
        "            in_bonds[y].append(b)\n",
        "\n",
        "            b = len(all_bonds)\n",
        "            all_bonds.append((y,x))\n",
        "            fbonds.append( torch.cat([fatoms[y], bond_features(bond)], 0) )\n",
        "            in_bonds[x].append(b)\n",
        "\n",
        "        scope.append((total_atoms,n_atoms))\n",
        "        total_atoms += n_atoms\n",
        "\n",
        "    total_bonds = len(all_bonds)\n",
        "    fatoms = torch.stack(fatoms, 0)\n",
        "    fbonds = torch.stack(fbonds, 0)\n",
        "    agraph = torch.zeros(total_atoms,MAX_NB).long()\n",
        "    bgraph = torch.zeros(total_bonds,MAX_NB).long()\n",
        "\n",
        "    for a in range(total_atoms):\n",
        "        for i,b in enumerate(in_bonds[a]):\n",
        "            agraph[a,i] = b\n",
        "\n",
        "    for b1 in range(1, total_bonds):\n",
        "        x,y = all_bonds[b1]\n",
        "        for i,b2 in enumerate(in_bonds[x]):\n",
        "            if all_bonds[b2][0] != y:\n",
        "                bgraph[b1,i] = b2\n",
        "\n",
        "    return fatoms, fbonds, agraph, bgraph, scope\n",
        "\n",
        "def index_select_ND(source, dim, index):  # convenience method for selecting indices, used in MPN\n",
        "    index_size = index.size()\n",
        "    suffix_dim = source.size()[1:]\n",
        "    final_size = index_size + suffix_dim\n",
        "    target = source.index_select(dim, index.view(-1))\n",
        "    return target.view(final_size)"
      ],
      "execution_count": 0,
      "outputs": []
    },
    {
      "cell_type": "code",
      "metadata": {
        "id": "vUT6Tl_CiVrM",
        "colab_type": "code",
        "colab": {}
      },
      "source": [
        "num_epochs = 30\n",
        "batch_size = 50\n",
        "lr = .001"
      ],
      "execution_count": 0,
      "outputs": []
    },
    {
      "cell_type": "code",
      "metadata": {
        "id": "iP1322zGSXOs",
        "colab_type": "code",
        "colab": {}
      },
      "source": [
        "class MPN(nn.Module):\n",
        "  def __init__(self):\n",
        "    super(MPN, self).__init__()\n",
        "    self.hidden_size = 300\n",
        "    self.depth = 3\n",
        "    self.dropout = 0\n",
        "\n",
        "    self.W_i = nn.Linear(ATOM_FDIM + BOND_FDIM, self.hidden_size, bias=False)\n",
        "    self.W_h = nn.Linear(self.hidden_size, self.hidden_size, bias=False)\n",
        "    self.W_o = nn.Linear(ATOM_FDIM + self.hidden_size, self.hidden_size)\n",
        "    self.W_pred = nn.Linear(self.hidden_size, 1)\n",
        "\n",
        "  def forward(self, mol_graph) -> torch.FloatTensor:\n",
        "    fatoms,fbonds,agraph,bgraph,scope = mol_graph\n",
        "\n",
        "    binput = self.W_i(fbonds)\n",
        "    message = F.relu(binput)\n",
        "\n",
        "    for i in range(self.depth - 1):\n",
        "        nei_message = index_select_ND(message, 0, bgraph)\n",
        "        nei_message = nei_message.sum(dim=1)\n",
        "        nei_message = self.W_h(nei_message)\n",
        "        message = F.relu(binput + nei_message)\n",
        "        if self.dropout > 0:\n",
        "            message = F.dropout(message, self.dropout, self.training)\n",
        "\n",
        "    nei_message = index_select_ND(message, 0, agraph)\n",
        "    nei_message = nei_message.sum(dim=1)\n",
        "    ainput = torch.cat([fatoms, nei_message], dim=1)\n",
        "    atom_hiddens = F.relu(self.W_o(ainput))\n",
        "    if self.dropout > 0:\n",
        "        atom_hiddens = F.dropout(atom_hiddens, self.dropout, self.training)\n",
        "\n",
        "    mol_vecs = []\n",
        "    for st,le in scope:\n",
        "        mol_vec = atom_hiddens.narrow(0, st, le).sum(dim=0) / le\n",
        "        mol_vecs.append(mol_vec)\n",
        "\n",
        "    mol_vecs = torch.stack(mol_vecs, dim=0)\n",
        "    return self.W_pred(mol_vecs)\n",
        "    "
      ],
      "execution_count": 0,
      "outputs": []
    },
    {
      "cell_type": "code",
      "metadata": {
        "id": "QR4mTHN-h9jX",
        "colab_type": "code",
        "colab": {}
      },
      "source": [
        "model = MPN()\n",
        "optimizer = optim.Adam(model.parameters(), lr=lr)"
      ],
      "execution_count": 0,
      "outputs": []
    },
    {
      "cell_type": "code",
      "metadata": {
        "id": "NHty84Kcmc5t",
        "colab_type": "code",
        "colab": {}
      },
      "source": [
        "def param_count(model: nn.Module) -> int:\n",
        "    return sum(param.numel() for param in model.parameters() if param.requires_grad)"
      ],
      "execution_count": 0,
      "outputs": []
    },
    {
      "cell_type": "code",
      "metadata": {
        "id": "WVc0glY0lw_7",
        "colab_type": "code",
        "colab": {}
      },
      "source": [
        "print(model)\n",
        "print('Number of parameters = {:,}'.format(param_count(model)))"
      ],
      "execution_count": 0,
      "outputs": []
    },
    {
      "cell_type": "code",
      "metadata": {
        "id": "L-BVDLuxS1NY",
        "colab_type": "code",
        "colab": {}
      },
      "source": [
        "def train_epoch(model: nn.Module,\n",
        "                optimizer: optim.Optimizer,\n",
        "                data: MoleculeDataset,\n",
        "                batch_size: int,\n",
        "                epoch: int) -> float:\n",
        "  model.train()\n",
        "  data.shuffle(seed=epoch)\n",
        "  \n",
        "  total_loss = 0\n",
        "  num_batches = 0\n",
        "  \n",
        "  data_size = len(data) // batch_size * batch_size  # drop final, incomplete batch\n",
        "  for i in trange(0, data_size, batch_size):\n",
        "    batch = MoleculeDataset(data[i:i + batch_size])\n",
        "    mol_graph, targets = mol2graph(batch.smiles()), batch.targets()\n",
        "    \n",
        "    targets = torch.FloatTensor(targets)\n",
        "    \n",
        "    optimizer.zero_grad()\n",
        "    preds = model(mol_graph)\n",
        "    loss = F.mse_loss(preds, targets)\n",
        "    loss.backward()\n",
        "    optimizer.step()\n",
        "    \n",
        "    total_loss += math.sqrt(loss.item())\n",
        "    num_batches += 1\n",
        "    \n",
        "  avg_loss = total_loss / num_batches\n",
        "  \n",
        "  return avg_loss"
      ],
      "execution_count": 0,
      "outputs": []
    },
    {
      "cell_type": "code",
      "metadata": {
        "id": "dQ0B_KmHfVuo",
        "colab_type": "code",
        "colab": {}
      },
      "source": [
        "num_epochs = 10\n",
        "for epoch in range(num_epochs):\n",
        "  train_loss = train_epoch(model, optimizer, train_data, batch_size, epoch)\n",
        "  print('Epoch {}: Train loss = {:.4f}'.format(epoch, train_loss))"
      ],
      "execution_count": 0,
      "outputs": []
    },
    {
      "cell_type": "code",
      "metadata": {
        "id": "WNCLOA48e7gv",
        "colab_type": "code",
        "colab": {}
      },
      "source": [
        "def rmse(targets: List[float], preds: List[float]) -> float:\n",
        "    return math.sqrt(mean_squared_error(targets, preds))"
      ],
      "execution_count": 0,
      "outputs": []
    },
    {
      "cell_type": "code",
      "metadata": {
        "id": "uCPXK90SeR9F",
        "colab_type": "code",
        "colab": {}
      },
      "source": [
        "def evaluate(model: nn.Module, data: MoleculeDataset, batch_size: int):\n",
        "    model.eval()\n",
        "    \n",
        "    all_preds = []\n",
        "    with torch.no_grad():\n",
        "      for i in range(0, len(data), batch_size):\n",
        "        batch = MoleculeDataset(data[i:i + batch_size])\n",
        "        mol_graph = mol2graph(batch.smiles())\n",
        "                \n",
        "        preds = model(mol_graph)\n",
        "        all_preds.extend(preds)\n",
        "    \n",
        "    return rmse(data.targets(), all_preds)"
      ],
      "execution_count": 0,
      "outputs": []
    },
    {
      "cell_type": "code",
      "metadata": {
        "id": "k8koU1XbXBVA",
        "colab_type": "code",
        "colab": {}
      },
      "source": [
        "test_rmse = evaluate(model, test_data, batch_size)\n",
        "print('Test rmse = {:.4f}'.format(test_rmse))"
      ],
      "execution_count": 0,
      "outputs": []
    }
  ]
}